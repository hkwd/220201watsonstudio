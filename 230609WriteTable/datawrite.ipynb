{
 "cells": [
  {
   "cell_type": "code",
   "execution_count": 1,
   "metadata": {
    "id": "e3f3099232654ce78045c29f4f35e699"
   },
   "outputs": [
    {
     "data": {
      "text/html": [
       "<div>\n",
       "<style scoped>\n",
       "    .dataframe tbody tr th:only-of-type {\n",
       "        vertical-align: middle;\n",
       "    }\n",
       "\n",
       "    .dataframe tbody tr th {\n",
       "        vertical-align: top;\n",
       "    }\n",
       "\n",
       "    .dataframe thead th {\n",
       "        text-align: right;\n",
       "    }\n",
       "</style>\n",
       "<table border=\"1\" class=\"dataframe\">\n",
       "  <thead>\n",
       "    <tr style=\"text-align: right;\">\n",
       "      <th></th>\n",
       "      <th>id</th>\n",
       "      <th>first name</th>\n",
       "    </tr>\n",
       "  </thead>\n",
       "  <tbody>\n",
       "    <tr>\n",
       "      <th>0</th>\n",
       "      <td>1</td>\n",
       "      <td>Suzuki</td>\n",
       "    </tr>\n",
       "    <tr>\n",
       "      <th>1</th>\n",
       "      <td>2</td>\n",
       "      <td>Sato</td>\n",
       "    </tr>\n",
       "    <tr>\n",
       "      <th>2</th>\n",
       "      <td>3</td>\n",
       "      <td>Takahashi</td>\n",
       "    </tr>\n",
       "  </tbody>\n",
       "</table>\n",
       "</div>"
      ],
      "text/plain": [
       "   id first name\n",
       "0   1     Suzuki\n",
       "1   2       Sato\n",
       "2   3  Takahashi"
      ]
     },
     "execution_count": 1,
     "metadata": {},
     "output_type": "execute_result"
    }
   ],
   "source": [
    "#テストデータ作成\n",
    "import pandas as pd\n",
    "# Create a sample DataFrame\n",
    "data = {\n",
    "    'id': [1,2,3],\n",
    "    'first name': ['Suzuki', 'Sato', 'Takahashi']\n",
    "}\n",
    "\n",
    "df = pd.DataFrame(data)\n",
    "df"
   ]
  },
  {
   "cell_type": "markdown",
   "metadata": {
    "id": "291f326cec234b9f86a0b001b6ea7426"
   },
   "source": [
    "https://api.dataplatform.cloud.ibm.com/v2/data_flows/doc/dataasset_and_connection_properties.html#dashdb"
   ]
  },
  {
   "cell_type": "code",
   "execution_count": 2,
   "metadata": {
    "id": "e0413e67389b4e6185d82135d826254d"
   },
   "outputs": [],
   "source": [
    "#DB書出し\n",
    "import itc_utils.flight_service as itcfs\n",
    "import pyarrow as pa\n",
    "\n",
    "# create an instance of a flight client\n",
    "flightClient = itcfs.get_flight_client()\n",
    "\n",
    "flight_data_request = {\n",
    "    'connection_name': \"\"\"DB2WHOC_HDM\"\"\",   # name of the connection\n",
    "    #'commit_frequency':  5000 optional parameter to trigger a commit every n records\n",
    "    'interaction_properties': {\n",
    "        'schema_name': 'HKWD', \n",
    "        'table_name': 'FLIGHTTEST',\n",
    "        'table_action': 'replace' # truncate|append\n",
    "        #'create_statement' : 'CREATE TABLE ...' # if you want to control data types\n",
    "    },\n",
    "}\n",
    "\n",
    "\n",
    "\n",
    "# create a flight descriptor specifiying the data source or target\n",
    "# content and structure of cmd are specific to IBM CP4D's flight service\n",
    "flightDescriptor = itcfs.get_flight_descriptor(nb_data_request = flight_data_request)\n",
    "\n",
    "# obtain a flight write stream\n",
    "schema = pa.Schema.from_pandas(df, preserve_index=False)\n",
    "writer, reader = flightClient.do_put(flightDescriptor, schema)\n",
    "\n",
    "# write data to a data target\n",
    "writer.write_table(pa.Table.from_pandas(df, schema))\n",
    "writer.close()\n"
   ]
  },
  {
   "cell_type": "code",
   "execution_count": 3,
   "metadata": {
    "id": "e5a29974f6b3406b841e118e8b9311f4"
   },
   "outputs": [
    {
     "data": {
      "text/html": [
       "<div>\n",
       "<style scoped>\n",
       "    .dataframe tbody tr th:only-of-type {\n",
       "        vertical-align: middle;\n",
       "    }\n",
       "\n",
       "    .dataframe tbody tr th {\n",
       "        vertical-align: top;\n",
       "    }\n",
       "\n",
       "    .dataframe thead th {\n",
       "        text-align: right;\n",
       "    }\n",
       "</style>\n",
       "<table border=\"1\" class=\"dataframe\">\n",
       "  <thead>\n",
       "    <tr style=\"text-align: right;\">\n",
       "      <th></th>\n",
       "      <th>id</th>\n",
       "      <th>first name</th>\n",
       "    </tr>\n",
       "  </thead>\n",
       "  <tbody>\n",
       "    <tr>\n",
       "      <th>0</th>\n",
       "      <td>1</td>\n",
       "      <td>Suzuki</td>\n",
       "    </tr>\n",
       "    <tr>\n",
       "      <th>1</th>\n",
       "      <td>2</td>\n",
       "      <td>Sato</td>\n",
       "    </tr>\n",
       "    <tr>\n",
       "      <th>2</th>\n",
       "      <td>3</td>\n",
       "      <td>Takahashi</td>\n",
       "    </tr>\n",
       "  </tbody>\n",
       "</table>\n",
       "</div>"
      ],
      "text/plain": [
       "   id first name\n",
       "0   1     Suzuki\n",
       "1   2       Sato\n",
       "2   3  Takahashi"
      ]
     },
     "execution_count": 3,
     "metadata": {},
     "output_type": "execute_result"
    }
   ],
   "source": [
    "#DB読み出し\n",
    "flight_data_request = {\n",
    "    'connection_name': \"\"\"DB2WHOC_HDM\"\"\",\n",
    "    'interaction_properties': {\n",
    "        'schema_name': 'HKWD', \n",
    "        'table_name': 'FLIGHTTEST'\n",
    "        #'select_statement': 'SELECT * FROM \"HKWD\".\"FLIGHTTEST\" FETCH FIRST 5000 ROWS ONLY'\n",
    "    }\n",
    "}\n",
    "\n",
    "flightInfo = itcfs.get_flight_info(flightClient, nb_data_request=flight_data_request)\n",
    "\n",
    "data_df_1 = itcfs.read_pandas_and_concat(flightClient, flightInfo, timeout=240)\n",
    "data_df_1\n"
   ]
  },
  {
   "cell_type": "code",
   "execution_count": null,
   "metadata": {
    "id": "9c61168f8f464ec9acf8eee6bb5d138c"
   },
   "outputs": [],
   "source": []
  }
 ],
 "metadata": {
  "kernelspec": {
   "display_name": "Python 3.10",
   "language": "python",
   "name": "python3"
  },
  "language_info": {
   "codemirror_mode": {
    "name": "ipython",
    "version": 3
   },
   "file_extension": ".py",
   "mimetype": "text/x-python",
   "name": "python",
   "nbconvert_exporter": "python",
   "pygments_lexer": "ipython3",
   "version": "3.10.6"
  }
 },
 "nbformat": 4,
 "nbformat_minor": 1
}
