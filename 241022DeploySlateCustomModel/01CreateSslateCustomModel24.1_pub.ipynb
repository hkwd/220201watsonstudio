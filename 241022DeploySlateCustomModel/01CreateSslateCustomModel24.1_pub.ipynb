{
 "cells": [
  {
   "cell_type": "markdown",
   "metadata": {},
   "source": [
    "# カスタムモデルの作成"
   ]
  },
  {
   "cell_type": "code",
   "execution_count": 1,
   "metadata": {
    "id": "cdb98810-ae4a-482e-a5cb-253a13abcf28"
   },
   "outputs": [
    {
     "data": {
      "text/html": [
       "<div>\n",
       "<style scoped>\n",
       "    .dataframe tbody tr th:only-of-type {\n",
       "        vertical-align: middle;\n",
       "    }\n",
       "\n",
       "    .dataframe tbody tr th {\n",
       "        vertical-align: top;\n",
       "    }\n",
       "\n",
       "    .dataframe thead th {\n",
       "        text-align: right;\n",
       "    }\n",
       "</style>\n",
       "<table border=\"1\" class=\"dataframe\">\n",
       "  <thead>\n",
       "    <tr style=\"text-align: right;\">\n",
       "      <th></th>\n",
       "      <th>labels</th>\n",
       "      <th>text</th>\n",
       "    </tr>\n",
       "  </thead>\n",
       "  <tbody>\n",
       "    <tr>\n",
       "      <th>0</th>\n",
       "      <td>ポジティブ</td>\n",
       "      <td>パフォーマンスは素晴らしいです。アプリの起動もスムーズで、マルチタスクを行っても遅延がありません。</td>\n",
       "    </tr>\n",
       "    <tr>\n",
       "      <th>1</th>\n",
       "      <td>ネガティブ</td>\n",
       "      <td>ストレージ容量が少ないため、大量のデータを保存する場合には注意が必要です。常に容量不足の警告...</td>\n",
       "    </tr>\n",
       "    <tr>\n",
       "      <th>2</th>\n",
       "      <td>ポジティブ</td>\n",
       "      <td>セキュリティ機能は優れています。指紋認証や顔認証など、侵入防止のためのオプションが豊富で、プ...</td>\n",
       "    </tr>\n",
       "    <tr>\n",
       "      <th>3</th>\n",
       "      <td>ネガティブ</td>\n",
       "      <td>指紋認証の精度がまだ改善の余地があります。指が湿っていると認識しづらいことがあります。</td>\n",
       "    </tr>\n",
       "    <tr>\n",
       "      <th>4</th>\n",
       "      <td>ポジティブ</td>\n",
       "      <td>音質は素晴らしいです。スピーカーからの音楽や通話音はクリアで、外部の騒音にも負けません。</td>\n",
       "    </tr>\n",
       "    <tr>\n",
       "      <th>5</th>\n",
       "      <td>ネガティブ</td>\n",
       "      <td>イヤホンジャックが不安定で、接触が悪くなることがあります。音楽を聴いている最中に音が途切れる...</td>\n",
       "    </tr>\n",
       "    <tr>\n",
       "      <th>6</th>\n",
       "      <td>ポジティブ</td>\n",
       "      <td>価格は手頃でありながら、性能が高いです。高価な競合製品と比べても、十分な機能を提供しています。</td>\n",
       "    </tr>\n",
       "    <tr>\n",
       "      <th>7</th>\n",
       "      <td>ネガティブ</td>\n",
       "      <td>カメラの性能が他の機種に比べると劣っています。特に暗所での撮影時には、ノイズが目立ちます。</td>\n",
       "    </tr>\n",
       "    <tr>\n",
       "      <th>8</th>\n",
       "      <td>ポジティブ</td>\n",
       "      <td>バッテリー寿命は驚くほど長く、一日中使用しても安心です。急速充電機能も備えており、急な外出で...</td>\n",
       "    </tr>\n",
       "    <tr>\n",
       "      <th>9</th>\n",
       "      <td>ネガティブ</td>\n",
       "      <td>充電器の耐久性が低いです。コネクタがすぐに緩んでしまい、充電が不安定になることがあります。</td>\n",
       "    </tr>\n",
       "  </tbody>\n",
       "</table>\n",
       "</div>"
      ],
      "text/plain": [
       "  labels                                               text\n",
       "0  ポジティブ  パフォーマンスは素晴らしいです。アプリの起動もスムーズで、マルチタスクを行っても遅延がありません。\n",
       "1  ネガティブ  ストレージ容量が少ないため、大量のデータを保存する場合には注意が必要です。常に容量不足の警告...\n",
       "2  ポジティブ  セキュリティ機能は優れています。指紋認証や顔認証など、侵入防止のためのオプションが豊富で、プ...\n",
       "3  ネガティブ        指紋認証の精度がまだ改善の余地があります。指が湿っていると認識しづらいことがあります。\n",
       "4  ポジティブ       音質は素晴らしいです。スピーカーからの音楽や通話音はクリアで、外部の騒音にも負けません。\n",
       "5  ネガティブ  イヤホンジャックが不安定で、接触が悪くなることがあります。音楽を聴いている最中に音が途切れる...\n",
       "6  ポジティブ    価格は手頃でありながら、性能が高いです。高価な競合製品と比べても、十分な機能を提供しています。\n",
       "7  ネガティブ      カメラの性能が他の機種に比べると劣っています。特に暗所での撮影時には、ノイズが目立ちます。\n",
       "8  ポジティブ  バッテリー寿命は驚くほど長く、一日中使用しても安心です。急速充電機能も備えており、急な外出で...\n",
       "9  ネガティブ      充電器の耐久性が低いです。コネクタがすぐに緩んでしまい、充電が不安定になることがあります。"
      ]
     },
     "execution_count": 1,
     "metadata": {},
     "output_type": "execute_result"
    }
   ],
   "source": [
    "\n",
    "import os, types\n",
    "import pandas as pd\n",
    "from botocore.client import Config\n",
    "import ibm_boto3\n",
    "\n",
    "def __iter__(self): return 0\n",
    "\n",
    "# @hidden_cell\n",
    "# The following code accesses a file in your IBM Cloud Object Storage. It includes your credentials.\n",
    "# You might want to remove those credentials before you share the notebook.\n",
    "\n",
    "cos_client = ibm_boto3.client(service_name='s3',\n",
    "    ibm_api_key_id='xxxxxxxxxxxxxxxxxx',\n",
    "    ibm_auth_endpoint=\"https://iam.cloud.ibm.com/identity/token\",\n",
    "    config=Config(signature_version='oauth'),\n",
    "    endpoint_url='https://s3.direct.jp-tok.cloud-object-storage.appdomain.cloud')\n",
    "\n",
    "bucket = 'xxxxxxxxxxxxxxxxxx'\n",
    "object_key = 'sentiment.csv'\n",
    "\n",
    "body = cos_client.get_object(Bucket=bucket,Key=object_key)['Body']\n",
    "# add missing __iter__ method, so pandas accepts body as file-like object\n",
    "if not hasattr(body, \"__iter__\"): body.__iter__ = types.MethodType( __iter__, body )\n",
    "\n",
    "df_1 = pd.read_csv(body)\n",
    "df_1.head(10)\n"
   ]
  },
  {
   "cell_type": "code",
   "execution_count": 2,
   "metadata": {
    "id": "c0aced50-e93e-4525-9cb8-2f512c75bb65"
   },
   "outputs": [],
   "source": [
    "# 学習データをJSONファイルとして保存\n",
    "def prepare_data(df):\n",
    "    # textカラムと分類カテゴリの*labels*が必要\n",
    "    df_out = df[['text', 'labels']].reset_index(drop=True)\n",
    "    # labels列は配列でなければなりません (1つしかない場合でも同様)\n",
    "    df_out['labels'] = df_out['labels'].map(lambda label: [label,])\n",
    "    return df_out\n",
    "    \n",
    "train_df = prepare_data(df_1)\n",
    "train_json_file = './train_data.json'\n",
    "train_df.to_json(train_json_file, orient='records')"
   ]
  },
  {
   "cell_type": "code",
   "execution_count": null,
   "metadata": {
    "id": "a036da1c-b693-4b10-af23-de9319884e33"
   },
   "outputs": [
    {
     "name": "stdout",
     "output_type": "stream",
     "text": [
      "{'loss': 0.2527, 'learning_rate': 1.0000000000000002e-06, 'epoch': 20.0}\n",
      "{'train_runtime': 884.7646, 'train_samples_per_second': 5.651, 'train_steps_per_second': 0.706, 'train_loss': 0.20415796508789064, 'epoch': 25.0}\n",
      "***** train metrics *****\n",
      "  epoch                    =       25.0\n",
      "  train_loss               =     0.2042\n",
      "  train_runtime            = 0:14:44.76\n",
      "  train_samples            =        200\n",
      "  train_samples_per_second =      5.651\n",
      "  train_steps_per_second   =      0.706\n"
     ]
    }
   ],
   "source": [
    "# Slateのカスタム学習モデルを作成\n",
    "import watson_nlp\n",
    "\n",
    "from watson_nlp.blocks.classification.transformer import Transformer\n",
    "#from watson_core.data_model.streams.resolver import DataStreamResolver\n",
    "from watson_nlp.toolkit.classification_utils.train_util import prepare_stream_of_train_records\n",
    "from watson_nlp import data_model as dm\n",
    "\n",
    "\n",
    "# 学習データからデータストリームを作成\n",
    "#data_stream_resolver = DataStreamResolver(target_stream_type=list, expected_keys={'text': str, 'labels': list})\n",
    "#train_stream = data_stream_resolver.as_data_stream(train_json_file)\n",
    "\n",
    "train_data_stream = dm.DataStream.from_file(train_json_file)\n",
    "train_record_data_stream = prepare_stream_of_train_records(train_data_stream)\n",
    "\n",
    "\n",
    "# 学習済みのSlateモデルをロード\n",
    "pretrained_model_resource = watson_nlp.load('pretrained-model_slate.153m.distilled_many_transformer_multilingual_uncased')\n",
    "\n",
    "# Slateのカスタムモデルを作成。学習回数はnum_train_cpochsで指定\n",
    "#classification_model = Transformer.train(train_data_stream, pretrained_model_resource, num_train_epochs=25)\n",
    "classification_model = Transformer.train(train_data_stream=train_record_data_stream, \n",
    "                                         pretrained_model_resource=pretrained_model_resource, num_train_epochs=25)\n"
   ]
  },
  {
   "cell_type": "code",
   "execution_count": 4,
   "metadata": {
    "id": "5f7bbfae-5f45-4448-a2b8-224aded7ac24"
   },
   "outputs": [
    {
     "data": {
      "text/plain": [
       "{\n",
       "  \"classes\": [\n",
       "    {\n",
       "      \"class_name\": \"ポジティブ\",\n",
       "      \"confidence\": 0.9939006567001343\n",
       "    },\n",
       "    {\n",
       "      \"class_name\": \"ネガティブ\",\n",
       "      \"confidence\": 0.006099307909607887\n",
       "    }\n",
       "  ],\n",
       "  \"producer_id\": {\n",
       "    \"name\": \"Transformer-based Text Classifier\",\n",
       "    \"version\": \"0.0.1\"\n",
       "  }\n",
       "}"
      ]
     },
     "execution_count": 4,
     "metadata": {},
     "output_type": "execute_result"
    }
   ],
   "source": [
    "# カスタムモデルのテスト実行\n",
    "\n",
    "text = 'ディスプレイは色鮮やかで、映画やゲームを楽しむのに最適です。'\n",
    "slate_preds = classification_model.run(text)\n",
    "slate_preds"
   ]
  },
  {
   "cell_type": "markdown",
   "metadata": {},
   "source": [
    "#　WMLへのデプロイ"
   ]
  },
  {
   "cell_type": "code",
   "execution_count": 5,
   "metadata": {
    "id": "50db8a67-b2d3-4a61-9806-f297c3090dff"
   },
   "outputs": [],
   "source": [
    "api_key = 'PASTE YOUR PLATFORM API KEY HERE'\n",
    "url = 'PASTE YOUR ENDPOINT HERE'\n",
    "space_id = 'PASTE YOUR SPACE ID HERE'\n",
    "\n"
   ]
  },
  {
   "cell_type": "code",
   "execution_count": 6,
   "metadata": {
    "id": "9b12ce79-38d7-4f2f-98af-68971d1de555"
   },
   "outputs": [],
   "source": [
    "from ibm_watsonx_ai import APIClient\n",
    "from ibm_watsonx_ai import Credentials\n",
    "credentials = Credentials(\n",
    "    api_key = api_key,\n",
    "    url= url\n",
    ")\n",
    "\n",
    "client = APIClient(credentials)"
   ]
  },
  {
   "cell_type": "code",
   "execution_count": 7,
   "metadata": {
    "id": "789c2a1f-aec7-43f0-9cc2-ac1e0ba8eff0"
   },
   "outputs": [],
   "source": [
    "space_id = 'd3c3d76b-205c-42f4-87b1-22a4ae1c2207' #240809dp_itz16_tok\n",
    "client_space = APIClient(credentials, space_id = space_id)"
   ]
  },
  {
   "cell_type": "code",
   "execution_count": 8,
   "metadata": {
    "id": "dab79c5b-a42e-4ac8-9ed3-d1540272f7d8"
   },
   "outputs": [],
   "source": [
    "# カスタムモデルはpickle化\n",
    "import pickle\n",
    "modelpickle='classification_model.pickle'\n",
    "\n",
    "with open(modelpickle, 'wb') as f:\n",
    "    pickle.dump(classification_model, f)\n"
   ]
  },
  {
   "cell_type": "code",
   "execution_count": 9,
   "metadata": {
    "id": "eb5ae89a-5ae0-44d9-a413-01676a772b03"
   },
   "outputs": [
    {
     "name": "stdout",
     "output_type": "stream",
     "text": [
      "total 608620\n",
      "drwxrwx--- 1 wsuser wsbuild       4096 Dec  2 05:49 ..\n",
      "drwxrwx--- 2 wsuser wscommon      4096 Dec  2 06:36 .\n",
      "-rw-rw---- 1 wsuser wscommon     49552 Dec  2 06:41 train_data.json\n",
      "-rw-rw---- 1 wsuser wscommon 623157896 Dec  2 06:56 classification_model.pickle\n"
     ]
    }
   ],
   "source": [
    "!ls -altr"
   ]
  },
  {
   "cell_type": "code",
   "execution_count": 10,
   "metadata": {
    "id": "5df375d7-5eca-4969-8e11-e18dbc32c09c"
   },
   "outputs": [
    {
     "name": "stdout",
     "output_type": "stream",
     "text": [
      "Creating data asset...\n",
      "SUCCESS\n"
     ]
    }
   ],
   "source": [
    "# デプロイメントスペースに保存\n",
    "input_assest_detail=client_space.data_assets.create(name=modelpickle,file_path=modelpickle)"
   ]
  },
  {
   "cell_type": "code",
   "execution_count": 11,
   "metadata": {
    "id": "1311f95c-2c98-424f-bcb9-05419b8a9fc8"
   },
   "outputs": [
    {
     "name": "stdout",
     "output_type": "stream",
     "text": [
      "a36d596c-8a7f-41e6-b2af-1186bacb7aa5\n"
     ]
    }
   ],
   "source": [
    "# Asset_idを取得\n",
    "print(input_assest_detail['metadata']['asset_id'])"
   ]
  },
  {
   "cell_type": "code",
   "execution_count": 12,
   "metadata": {
    "id": "7749405c-c50e-4b13-b52f-811160890982"
   },
   "outputs": [
    {
     "data": {
      "text/plain": [
       "0    a36d596c-8a7f-41e6-b2af-1186bacb7aa5\n",
       "Name: ASSET_ID, dtype: object"
      ]
     },
     "execution_count": 12,
     "metadata": {},
     "output_type": "execute_result"
    }
   ],
   "source": [
    "client_space.data_assets.list().query('NAME== @modelpickle')['ASSET_ID']"
   ]
  },
  {
   "cell_type": "markdown",
   "metadata": {},
   "source": [
    "# デプロイするファンクションの定義"
   ]
  },
  {
   "cell_type": "code",
   "execution_count": 13,
   "metadata": {
    "id": "7855b43f-44f3-480b-b361-2df1a42ae7dd"
   },
   "outputs": [],
   "source": [
    "def classifyContext():\n",
    "    import watson_nlp\n",
    "    import os\n",
    "    import pickle\n",
    "\n",
    "    api_key = 'PASTE YOUR PLATFORM API KEY HERE'\n",
    "    url = 'PASTE YOUR ENDPOINT HERE'\n",
    "    space_id = 'PASTE YOUR SPACE ID HERE'\n",
    "\n",
    "\n",
    "    modelpickle='classification_model.pickle'\n",
    "    #modelpickle_assest_id='f5cded35-f664-4d18-b802-56c5a7cd13f7'\n",
    "    \n",
    "    \n",
    "    # watsonxクライアントの接続\n",
    "    from ibm_watsonx_ai import APIClient\n",
    "    from ibm_watsonx_ai import Credentials\n",
    "    credentials = Credentials(\n",
    "        api_key = api_key,\n",
    "        url= url\n",
    "    )\n",
    "\n",
    "    client_space = APIClient(credentials, space_id = space_id)\n",
    "    # modelのpickleのIDを名前から取得\n",
    "    modelpickle_assest_id=client_space.data_assets.list().query('NAME== @modelpickle')['ASSET_ID'][0]\n",
    "    # デプロイメントスペースからダウンロード\n",
    "    client_space.data_assets.download(modelpickle_assest_id,modelpickle)\n",
    "    \n",
    "    #ダウンロード確認\n",
    "    if(os.path.isfile(modelpickle) == True):\n",
    "         print('Download OK')\n",
    "    else:\n",
    "         print('Download Failed')\n",
    "    \n",
    "\n",
    "    # pickleからモデルを復元\n",
    "    with open(modelpickle, 'rb') as f:\n",
    "        classified_model = pickle.load(f)    \n",
    "        \n",
    "    # スコアリングファンクション\n",
    "    def score(payload):\n",
    "        #カスタムモデルでの分類\n",
    "        c_prediction = classified_model.run(payload['input_data'][0][\"values\"][0][0])       \n",
    "        return {'predictions': [c_prediction.to_dict()]}\n",
    "       \n",
    "    return score"
   ]
  },
  {
   "cell_type": "code",
   "execution_count": 14,
   "metadata": {
    "id": "e2707e70-4c72-4cf3-9e3f-635b8d86e27d"
   },
   "outputs": [
    {
     "name": "stdout",
     "output_type": "stream",
     "text": [
      "Successfully saved data asset content to file: 'classification_model.pickle'\n",
      "Download OK\n"
     ]
    }
   ],
   "source": [
    "# ファンクションのテスト\n",
    "response = classifyContext()({\n",
    "    \"input_data\": [{\n",
    "        \"values\" :[[\"ディスプレイは色鮮やかで、映画やゲームを楽しむのに最適です。\"]]\n",
    "    }]\n",
    "})"
   ]
  },
  {
   "cell_type": "code",
   "execution_count": 15,
   "metadata": {
    "id": "6626543a-ee7a-46a1-b7dc-a03645c30dad"
   },
   "outputs": [
    {
     "name": "stdout",
     "output_type": "stream",
     "text": [
      "[{'classes': [{'class_name': 'ポジティブ', 'confidence': 0.9941997528076172},\n",
      "              {'class_name': 'ネガティブ', 'confidence': 0.005800221581012011}],\n",
      "  'producer_id': {'name': 'Transformer-based Text Classifier',\n",
      "                  'version': '0.0.1'}}]\n"
     ]
    }
   ],
   "source": [
    "import pprint\n",
    "pprint.pprint(response[\"predictions\"])"
   ]
  },
  {
   "cell_type": "code",
   "execution_count": 16,
   "metadata": {
    "id": "ba9bf61c-bd81-42d6-b264-6cb9ba03f3a2"
   },
   "outputs": [],
   "source": [
    "#sw_spec_uid = client.software_specifications.get_id_by_name(\"runtime-23.1-py3.10\")\n",
    "sw_spec_uid = client.software_specifications.get_id_by_name(\"runtime-24.1-py3.11\")"
   ]
  },
  {
   "cell_type": "code",
   "execution_count": 17,
   "metadata": {
    "id": "fe183dfc-9712-45b2-9843-bc457a66c922"
   },
   "outputs": [],
   "source": [
    "# ファンクションの保存\n",
    "meta_props = {\n",
    "    client.repository.FunctionMetaNames.NAME: \"Slate Test Simple\",\n",
    "    client.repository.FunctionMetaNames.SOFTWARE_SPEC_UID: sw_spec_uid\n",
    "}\n",
    "\n",
    "function_details = client_space.repository.store_function(meta_props=meta_props, function=classifyContext)\n",
    "function_id = client_space.repository.get_function_id(function_details)"
   ]
  },
  {
   "cell_type": "code",
   "execution_count": 18,
   "metadata": {
    "id": "6eea078d-e261-49e8-81d3-13dd3b2ff117"
   },
   "outputs": [
    {
     "name": "stdout",
     "output_type": "stream",
     "text": [
      "\n",
      "\n",
      "######################################################################################\n",
      "\n",
      "Synchronous deployment creation for id: '7c831292-961e-4660-99e7-db00647cd485' started\n",
      "\n",
      "######################################################################################\n",
      "\n",
      "\n",
      "initializing\n",
      "Note: online_url and serving_urls are deprecated and will be removed in a future release. Use inference instead.\n",
      "......\n",
      "ready\n",
      "\n",
      "\n",
      "-----------------------------------------------------------------------------------------------\n",
      "Successfully finished deployment creation, deployment_id='ab6f4106-b0b3-409a-95dd-ac9f185905e3'\n",
      "-----------------------------------------------------------------------------------------------\n",
      "\n",
      "\n"
     ]
    }
   ],
   "source": [
    "# ファンクションをデプロイ\n",
    "metadata = {\n",
    "    client_space.deployments.ConfigurationMetaNames.NAME: \"Deployment of function Slate Test Simple\",\n",
    "    client_space.deployments.ConfigurationMetaNames.HARDWARE_SPEC: { 'name': 'S'},  \n",
    "    client_space.deployments.ConfigurationMetaNames.ONLINE: {}\n",
    "}\n",
    "\n",
    "function_deployment_details  = client_space.deployments.create(function_id, meta_props=metadata)"
   ]
  },
  {
   "cell_type": "markdown",
   "metadata": {},
   "source": [
    "# テストスコアリング実行"
   ]
  },
  {
   "cell_type": "code",
   "execution_count": 19,
   "metadata": {
    "id": "6914e798-ab5f-4951-857f-9cccd9635bd2"
   },
   "outputs": [
    {
     "name": "stdout",
     "output_type": "stream",
     "text": [
      "ab6f4106-b0b3-409a-95dd-ac9f185905e3\n"
     ]
    }
   ],
   "source": [
    "# デプロイメントIDの取得\n",
    "deployment_id=function_deployment_details['metadata']['id']\n",
    "print(deployment_id)"
   ]
  },
  {
   "cell_type": "code",
   "execution_count": 20,
   "metadata": {
    "id": "48e8c137-d8e4-41b6-891b-1a056961b503"
   },
   "outputs": [],
   "source": [
    "# test the function\n",
    "scoring_payload = {\n",
    "    \"input_data\": [{\n",
    "        \"values\" :[[\"ディスプレイは色鮮やかで、映画やゲームを楽しむのに最適です。\"]]\n",
    "    }]\n",
    "}"
   ]
  },
  {
   "cell_type": "code",
   "execution_count": 21,
   "metadata": {
    "id": "b15e7ca1-17af-4571-a935-c74fa71502c1"
   },
   "outputs": [
    {
     "name": "stdout",
     "output_type": "stream",
     "text": [
      "[{'classes': [{'class_name': 'ポジティブ', 'confidence': 0.9941997528076172},\n",
      "              {'class_name': 'ネガティブ', 'confidence': 0.005800221581012011}],\n",
      "  'producer_id': {'name': 'Transformer-based Text Classifier',\n",
      "                  'version': '0.0.1'}}]\n"
     ]
    }
   ],
   "source": [
    "predictions = client_space.deployments.score(deployment_id, scoring_payload)\n",
    "import pprint\n",
    "pprint.pprint(response[\"predictions\"])"
   ]
  },
  {
   "cell_type": "code",
   "execution_count": null,
   "metadata": {
    "id": "3af772b8-bbe6-45b8-8530-0d3d72ed8fd0"
   },
   "outputs": [],
   "source": []
  }
 ],
 "metadata": {
  "kernelspec": {
   "display_name": "Python 3.11",
   "language": "python",
   "name": "python3"
  },
  "language_info": {
   "codemirror_mode": {
    "name": "ipython",
    "version": 3
   },
   "file_extension": ".py",
   "mimetype": "text/x-python",
   "name": "python",
   "nbconvert_exporter": "python",
   "pygments_lexer": "ipython3",
   "version": "3.11.9"
  }
 },
 "nbformat": 4,
 "nbformat_minor": 4
}
