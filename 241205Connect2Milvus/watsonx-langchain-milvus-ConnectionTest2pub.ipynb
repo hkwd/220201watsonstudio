{
 "cells": [
  {
   "cell_type": "markdown",
   "metadata": {
    "collapsed": true
   },
   "source": [
    "# watsonx.dataのMilvusに接続\n",
    "\n",
    "https://cloud.ibm.com/docs/watsonxdata?topic=watsonxdata-conn-to-milvus"
   ]
  },
  {
   "cell_type": "markdown",
   "metadata": {},
   "source": [
    "# 必要なライブラリのインストール"
   ]
  },
  {
   "cell_type": "markdown",
   "metadata": {},
   "source": [
    "!py -3.11 -m pip install pymilvus\n"
   ]
  },
  {
   "cell_type": "markdown",
   "metadata": {},
   "source": [
    "## Milvusへの接続情報をセットします"
   ]
  },
  {
   "cell_type": "code",
   "execution_count": null,
   "metadata": {},
   "outputs": [],
   "source": [
    "wxdata_host='xxxxxxxxxxxxxxxxxxxxxxx.lakehouse.appdomain.cloud' \n",
    "wxdata_port='30656'\n",
    "wxdata_user='ibmlhapikey'\n",
    "wxdata_apikey='xxxxxxxxxxxxxxxxxxxxxxx' #240816api_itz13"
   ]
  },
  {
   "cell_type": "markdown",
   "metadata": {},
   "source": [
    "# connectionsを使った接続\n",
    "https://milvus.io/api-reference/pymilvus/v2.4.x/ORM/Connections/connect.md"
   ]
  },
  {
   "cell_type": "code",
   "execution_count": 2,
   "metadata": {},
   "outputs": [
    {
     "name": "stdout",
     "output_type": "stream",
     "text": [
      "milvus\n"
     ]
    }
   ],
   "source": [
    "from pymilvus import connections, utility\n",
    "\n",
    "# Establish a connection\n",
    "connections.connect(\n",
    "    host=wxdata_host, \n",
    "    port=wxdata_port, \n",
    "    secure=True, \n",
    "    user=wxdata_user,\n",
    "    password=wxdata_apikey\n",
    ")\n",
    "\n",
    "# Check the server type\n",
    "print(utility.get_server_type())\n",
    "connections.disconnect(alias=\"default\")"
   ]
  },
  {
   "cell_type": "markdown",
   "metadata": {},
   "source": [
    "# MilvusClientをつかった接続\n",
    "https://milvus.io/api-reference/pymilvus/v2.4.x/MilvusClient/Client/MilvusClient.md"
   ]
  },
  {
   "cell_type": "code",
   "execution_count": 3,
   "metadata": {},
   "outputs": [
    {
     "name": "stdout",
     "output_type": "stream",
     "text": [
      "['default']\n"
     ]
    }
   ],
   "source": [
    "from pymilvus import MilvusClient\n",
    "\n",
    "#milvus_client = MilvusClient(my_connection_args)\n",
    "client = MilvusClient(\n",
    "    uri=\"https://\"+wxdata_host+\":\"+wxdata_port,\n",
    "    user=wxdata_user,\n",
    "    password=wxdata_apikey\n",
    ")\n",
    "print(client.list_databases())\n",
    "client.close()"
   ]
  },
  {
   "cell_type": "markdown",
   "metadata": {},
   "source": [
    "## バージョン情報"
   ]
  },
  {
   "cell_type": "code",
   "execution_count": 4,
   "metadata": {},
   "outputs": [
    {
     "name": "stdout",
     "output_type": "stream",
     "text": [
      "python:3.11.9 (tags/v3.11.9:de54cf5, Apr  2 2024, 10:12:12) [MSC v.1938 64 bit (AMD64)]\n",
      "pymilvus:2.5.0\n"
     ]
    }
   ],
   "source": [
    "import sys\n",
    "print('python:%s'% sys.version)\n",
    "\n",
    "import pymilvus\n",
    "print('pymilvus:%s'% pymilvus. __version__ )\n",
    "\n"
   ]
  }
 ],
 "metadata": {
  "kernelspec": {
   "display_name": "Python 3",
   "language": "python",
   "name": "python3"
  },
  "language_info": {
   "codemirror_mode": {
    "name": "ipython",
    "version": 3
   },
   "file_extension": ".py",
   "mimetype": "text/x-python",
   "name": "python",
   "nbconvert_exporter": "python",
   "pygments_lexer": "ipython3",
   "version": "3.11.9"
  }
 },
 "nbformat": 4,
 "nbformat_minor": 1
}
