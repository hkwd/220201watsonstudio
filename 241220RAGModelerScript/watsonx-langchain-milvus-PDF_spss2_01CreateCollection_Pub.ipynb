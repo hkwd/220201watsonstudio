{
 "cells": [
  {
   "cell_type": "markdown",
   "metadata": {
    "collapsed": true
   },
   "source": [
    "# RAGを使ってModelerスクリプトを生成①コレクションの作成"
   ]
  },
  {
   "cell_type": "markdown",
   "metadata": {},
   "source": [
    "## 必要なライブラリのインストール"
   ]
  },
  {
   "cell_type": "markdown",
   "metadata": {},
   "source": [
    "!py -3.11 -m pip install ibm_watsonx_ai\n",
    "!py -3.11 -m pip install langchain\n",
    "!py -3.11 -m pip install langchain_milvus\n",
    "!py -3.11 -m pip install langchain_community\n",
    "!py -3.11 -m pip install pypdf\n",
    "!py -3.11 -m pip install langchain_huggingface\n",
    "!py -3.11 -m pip install langchain-ibm"
   ]
  },
  {
   "cell_type": "markdown",
   "metadata": {},
   "source": [
    "## Milvusへの接続情報をセット"
   ]
  },
  {
   "cell_type": "code",
   "execution_count": 1,
   "metadata": {},
   "outputs": [],
   "source": [
    "# Milvusへの接続情報\n",
    "\n",
    "wxdata_host='xxxxxxxxxxxxxxxxxxxxxxx.lakehouse.appdomain.cloud' \n",
    "wxdata_port='xxxxx'\n",
    "wxdata_user='ibmlhapikey'\n",
    "wxdata_apikey='xxxxxxxxxxxxxxxxxxxxxxx'\n",
    "\n",
    "#DB名\n",
    "db_name =\"default\"\n",
    "#コレクション名\n",
    "collection_name = \"spss_pdf\"\n",
    "\n",
    "#辞書形式のMilvus接続引数\n",
    "milvus_connection_args ={\n",
    " 'db_name':db_name,\n",
    " 'uri': \"https://\"+wxdata_host+\":\"+wxdata_port,\n",
    " 'user':wxdata_user,\n",
    " 'password':wxdata_apikey,\n",
    " 'secure':True\n",
    "}\n",
    "\n"
   ]
  },
  {
   "cell_type": "markdown",
   "metadata": {},
   "source": [
    "## embeddingsの指定"
   ]
  },
  {
   "cell_type": "code",
   "execution_count": 2,
   "metadata": {},
   "outputs": [
    {
     "name": "stderr",
     "output_type": "stream",
     "text": [
      "c:\\Users\\503615760\\AppData\\Local\\Programs\\Python\\Python311\\Lib\\site-packages\\tqdm\\auto.py:21: TqdmWarning: IProgress not found. Please update jupyter and ipywidgets. See https://ipywidgets.readthedocs.io/en/stable/user_install.html\n",
      "  from .autonotebook import tqdm as notebook_tqdm\n"
     ]
    }
   ],
   "source": [
    "from langchain_huggingface import HuggingFaceEmbeddings\n",
    "\n",
    "embeddings = HuggingFaceEmbeddings(model_name=\"sentence-transformers/paraphrase-multilingual-mpnet-base-v2\")"
   ]
  },
  {
   "cell_type": "markdown",
   "metadata": {},
   "source": [
    "## PDFの取得\n",
    "PDFをダウンロードしてください。\n",
    "https://www.ibm.com/docs/ja/SS3RA7_18.5.0/nl/ja/pdf/ModelerScriptingAutomation.pdf"
   ]
  },
  {
   "cell_type": "markdown",
   "metadata": {},
   "source": [
    "#!wget https://www.ibm.com/docs/ja/SS3RA7_18.5.0/nl/ja/pdf/ModelerScriptingAutomation.pdf\n",
    "!Invoke-WebRequest -Uri \"https://www.ibm.com/docs/ja/SS3RA7_18.5.0/nl/ja/pdf/ModelerScriptingAutomation.pdf\" -OutFile \"ModelerScriptingAutomation.pdf\""
   ]
  },
  {
   "cell_type": "markdown",
   "metadata": {},
   "source": [
    "## PDFの読み込み"
   ]
  },
  {
   "cell_type": "code",
   "execution_count": 4,
   "metadata": {},
   "outputs": [],
   "source": [
    "from langchain.document_loaders import PyPDFLoader\n",
    "\n",
    "loader = PyPDFLoader(\"./ModelerScriptingAutomation.pdf\") #ダウンロードしたPDFを指定\n",
    "# PDF ドキュメントの内容をページで分割する\n",
    "pages = loader.load_and_split() "
   ]
  },
  {
   "cell_type": "markdown",
   "metadata": {},
   "source": [
    "## Milvusにコレクションを作成し、ページのデータをInsert"
   ]
  },
  {
   "cell_type": "markdown",
   "metadata": {},
   "source": [
    "一度に大量データを読み込むと以下のエラーになった<br>\n",
    "RPC error: [batch_insert], <MilvusException: (code=65535, message=Broker: Message size too large: Please try with a smaller batch size.)>, <Time:{'RPC start': '2024-09-13 17:25:30.070110', 'RPC error': '2024-09-13 17:25:32.530650'}>\n",
    "Failed to insert batch starting at entity: 0/500"
   ]
  },
  {
   "cell_type": "code",
   "execution_count": 5,
   "metadata": {},
   "outputs": [],
   "source": [
    "#from langchain_community.vectorstores import Milvus\n",
    "from langchain_milvus import Milvus\n",
    "\n",
    "# 一度に大量データを読み込むとエラーになるのでn件ごとにINSERTする。\n",
    "n=10\n",
    "\n",
    "vector_store = Milvus(\n",
    "    embeddings,\n",
    "    connection_args=milvus_connection_args,\n",
    "    drop_old=True, #既存コレクションは削除\n",
    "    auto_id=True,\n",
    "    collection_name = collection_name\n",
    ")\n",
    "\n",
    "\n",
    "for i in range(0,len(pages),n):\n",
    "    vector_store.add_documents(documents=pages[i: i+n])"
   ]
  },
  {
   "cell_type": "markdown",
   "metadata": {},
   "source": [
    "## 類似テキスト検索テスト"
   ]
  },
  {
   "cell_type": "code",
   "execution_count": 6,
   "metadata": {},
   "outputs": [
    {
     "name": "stdout",
     "output_type": "stream",
     "text": [
      "{'content': '表 26. ノードおよび出力\\nノード名 出力名 コンテナ ID\\ntable table \"table\"\\nスクリプトの例\\nstream = modeler.script.stream()\\nfrom modeler.api import StorageType\\n# Set up the variable file import node\\nvarfilenode = stream.createAt(\"variablefile\", \"DRUG Data\", 96, 96)\\nvarfilenode.setPropertyValue(\"full_filename\", \"$CLEO_DEMOS/DRUG1n\")\\n# Next create the aggregate node and connect it to the variable file node\\naggregatenode = stream.createAt(\"aggregate\", \"Aggregate\", 192, 96)\\nstream.link(varfilenode, aggregatenode)\\n# Configure the aggregate node\\naggregatenode.setPropertyValue(\"keys\", [\"Drug\"])\\naggregatenode.setKeyedPropertyValue(\"aggregates\", \"Age\", [\"Min\", \"Max\"])\\naggregatenode.setKeyedPropertyValue(\"aggregates\", \"Na\", [\"Mean\", \"SDev\"])\\n# Then create the table output node and connect it to the aggregate node\\ntablenode = stream.createAt(\"table\", \"Table\", 288, 96)\\nstream.link(aggregatenode, tablenode)\\n# Execute the table node and capture the resulting table output object\\nresults = []\\ntablenode.run(results)\\ntableoutput = re', 'metadata': {'source': './ModelerScriptingAutomation.pdf', 'page': 66, 'pk': 454326554572154012}}\n",
      "{'content': 'サポート・ベクトル・マシン・モデル\\nノードのスクリプト・プロパティー 307\\n散布図ノード\\nプロパティー 208\\nサンプリング・ノード\\nプロパティー 135\\nシーケンス・モデル\\nノードのスクリプト・プロパティー 297, 347\\n時間区分ノード\\nプロパティー 174\\n時間的因果モデル\\nノードのスクリプト・プロパティー 308\\n識別子 19\\n時空間予測ノード\\nプロパティー 300\\n時系列グラフ・ノード\\nプロパティー 211\\n時系列ノード\\nプロパティー 166\\n時系列モデル\\nノードのスクリプト・プロパティー 313, 321, 348, 349\\n自己学習応答モデル\\nノードのスクリプト・プロパティー 299, 347\\nシステム\\nコマンド・ラインの引数 66\\n実行順序\\nスクリプトによる変更 51\\n自動クラスタリング・ノード\\nノードのスクリプト・プロパティー 226\\n自動クラスタリング・モデル\\nノードのスクリプト・プロパティー 334\\n自動数値モデル\\nノードのスクリプト・プロパティー 228, 334\\n自動分類ノード\\nノードのスクリプト・プロパティー 224\\n自動分類モデル\\nノードのスクリプト・プロパティー 332\\nシミュレーション生成ノード\\nプロパティー 107\\nシミュレーションの当てはめノード\\nプロパティー 394\\nシミュレーション評価ノード\\nプロパティー 393\\n集計棒グラフ・ノード\\nプロパティー 192\\n主成分分析モデル\\nノードのスクリプト・プロパティー 249, 339\\n出力オブジェクト\\nスクリプト名 455\\n出力ノード\\nスクリプトのプロパティー 381\\n順序ノード\\nプロパティー 169\\n条件抽出ノード\\nプロパティー 137\\n数学メソッド 21\\n数値予測ノード・プロパティー 228\\nスーパーノード\\nスクリプト 1, 5, 6, 27, 451\\nストリーム 27\\nプロパティー 451\\nプロパティーの設定 451\\nparameters 451\\nstreams 27\\nスクリプト\\n以前のバージョンとの互換性 55\\nエラーのチェック 54\\n概要 1, 15\\n共通のプロパティー 76\\nグラフ作成ノード 191\\n構文 15–17, 19–21, 23–26\\nコマンド・ラインから 54\\nコンテキスト 28\\n実行 11\\n従来のスクリプト 458, 459, 463, 465, 466', 'metadata': {'source': './ModelerScriptingAutomation.pdf', 'page': 483, 'pk': 454326554572154471}}\n",
      "{'content': '表 269. tsnenode プロパティー (続き)\\ntsnenode プロパティー データ型 プロパティーの説明\\noutput_to string Screen または Output を指定します。\\nデフォルトは Screen です。\\nfull_filename string 出力ファイル名を指定します。\\noutput_file_type string 出力ファイル形式。 HTML または Output\\nobject を指定します。 デフォルトは\\nHTML です。\\nxgboostlinearnode のプロパティー\\nXGBoost Linear© は、線型モデルを基本モデルとして使用する勾配ブースティング・\\nアルゴリズムの高度な実装です。 ブースティング・アルゴリズムでは、弱い分類子に\\n繰り返し学習させ、それを最終的な強い分類子に追加します。 スポス モデラー の\\nXGBoost Linear ノードは Python で実装されています。\\n表 270. xgboostlinearnode のプロパティー\\nxgboostlinearnode のプロパテ\\nィー\\nデータ型 プロパティーの説明\\nTargetField\\nバージョン 18.2.1.1 以降は\\ntarget に名前変更されています。\\nフィールド\\nInputFields\\nバージョン 18.2.1.1 以降は\\ninputs に名前変更されています。\\nフィールド\\nalpha DOUBLE アルファ線型ブースティング パラメー\\nタ。 0 以上の任意の数値を指定してくだ\\nさい。 デフォルトは 0 です。\\nlambda DOUBLE ラムダ線型ブースティング パラメータ。\\n0 以上の任意の数値を指定してください。\\nデフォルトは 1 です。\\nlambdaBias DOUBLE ラムダ バイアス線型ブースティング パラ\\nメータ。 任意の数値を指定します。 デフ\\nォルトは 0 です。\\nnumBoostRound\\nバージョン 18.2.1.1 以降は\\nnum_boost_round に名前変更さ\\nれています。\\ninteger モデル作成用の num boost round 値。 1\\nから 1000 の間の値を指定します。 デフ\\nォルトは 10 です。\\n440\\xa0\\xa0IBM SPSS Modeler 18.5 Python スクリプト', 'metadata': {'source': './ModelerScriptingAutomation.pdf', 'page': 449, 'pk': 454326554572154433}}\n",
      "{'content': '表 12. ノードを作成するためのメソッド (続き)\\n方法 戻り値の型 説明\\ns.createAt(nodeType,\\nname, x, y)\\nノード 指定したデータ型のノードを作成\\nして、指定したストリームの指定\\nした場所に追加します。 x < 0 ま\\nたは y < 0 の場合、場所は設定さ\\nれません。\\ns.createModelApplier(mode\\nlOutput, name)\\nノード 提供されたモデル出力オブジェク\\nトから派生したモデル・アプライ\\nヤー・ノードを作成します。\\n例えば、ストリーム内に新しいデータ型ノードを作成するには、以下のスクリプトを使用できます。\\nstream = modeler.script.stream()\\n# Create a new type node\\nnode = stream.create(\"type\", \"My Type\")\\nノードのリンクとリンク解除\\nストリーム内に新しいノードを作成する場合、そのノードを使用するにはノードのシーケンスに接続する\\n必要があります。 ストリームには、ノードをリンクおよびリンク解除するための多くのメソッドがありま\\nす。 これらのメソッドを次の表に要約します。\\n表 13. ノードをリンクおよびリンク解除するためのメソッド\\n方法 戻り値の型 説明\\ns.link(source, target) 適用外 入力ノードとターゲット・ノード\\nの間に新しいリンクを作成しま\\nす。\\ns.link(source, targets) 適用外 入力ノードと指定されたリスト内\\nの各ターゲットの間に新しいリン\\nクを作成します。\\ns.linkBetween(inserted,\\nsource, target)\\n適用外 他の 2 つのノード・インスタンス\\n(入力ノードとターゲット・ノー\\nド) の間にノードを接続し、 挿入し\\nたノードの位置がこれらのノード\\nの間になるように設定します。\\n入力ノードとターゲット・ノード\\nの間の直接リンクが最初に削除さ\\nれます。\\ns.linkPath(path) 適用外 ノード・インスタンスの間の新し\\nいパスを作成します。 最初のノ\\nードが 2 番目のノードにリンクさ\\nれ、2 番目のノードが 3 番のノー\\nドにリンクされ、以下同様にリン\\nクされます。\\ns.unlink(source, target) 適', 'metadata': {'source': './ModelerScriptingAutomation.pdf', 'page': 41, 'pk': 454326554572153984}}\n",
      "{'content': '第 9 章 入力ノードのプロパティー\\n入力ノードの共通プロパティー\\nすべての入力ノードに共通するプロパティーを次に一覧にします。その後に、特定のノードに関する情報\\nが続きます。\\n例 1\\nvarfilenode = modeler.script.stream().create(\"variablefile\", \"Var. File\")\\nvarfilenode.setPropertyValue(\"full_filename\", \"$CLEO_DEMOS/DRUG1n\")\\nvarfilenode.setKeyedPropertyValue(\"check\", \"Age\", \"None\")\\nvarfilenode.setKeyedPropertyValue(\"values\", \"Age\", [1, 100])\\nvarfilenode.setKeyedPropertyValue(\"type\", \"Age\", \"Range\")\\nvarfilenode.setKeyedPropertyValue(\"direction\", \"Age\", \"Input\")\\n例 2\\nこのスクリプトは、指定されたデータ ファイルに、複数行の文字列を表す Region というフィールドが含\\nまれていることを前提とします。\\nfrom modeler.api import StorageType\\nfrom modeler.api import MeasureType\\n# Create a Variable File node that reads the data set containing\\n# the \"Region\" field\\nvarfilenode = modeler.script.stream().create(\"variablefile\", \"My Geo Data\")\\nvarfilenode.setPropertyValue(\"full_filename\", \"C:/mydata/mygeodata.csv\")\\nvarfilenode.setPropertyValue(\"treat_square_brackets_as_lists\", True)\\n# Override the storage type to be a list...\\nvarfilenode.setKeyedPropertyValu', 'metadata': {'source': './ModelerScriptingAutomation.pdf', 'page': 90, 'pk': 454326554572154038}}\n"
     ]
    }
   ],
   "source": [
    "query=\"\"\"可変長ファイルノードで\"$CLEO_DEMOS/DRUG1n\"を読み込み、ヒストグラムノードをつないで、Age列のヒストグラムを表示するModelerスクリプトをpythonで書いてください。\"\"\" \n",
    "docs = vector_store.similarity_search(query,k=5)\n",
    "\n",
    "for doc in docs:\n",
    "    print({\"content\": doc.page_content[0:1000], \"metadata\": doc.metadata} )"
   ]
  },
  {
   "cell_type": "markdown",
   "metadata": {},
   "source": [
    "## バージョン情報"
   ]
  },
  {
   "cell_type": "code",
   "execution_count": 7,
   "metadata": {},
   "outputs": [
    {
     "name": "stdout",
     "output_type": "stream",
     "text": [
      "python:3.11.9 (tags/v3.11.9:de54cf5, Apr  2 2024, 10:12:12) [MSC v.1938 64 bit (AMD64)]\n",
      "ibm_watsonx_ai:1.1.24\n",
      "langchain:0.3.9\n",
      "langchain_community:0.3.9\n",
      "pypdf:5.1.0\n",
      "langchain_huggingface:0.1.2\n",
      "langchain_milvus:0.1.7\n",
      "langchain-ibm:0.3.5\n"
     ]
    }
   ],
   "source": [
    "import sys\n",
    "print('python:%s'% sys.version)\n",
    "\n",
    "import ibm_watsonx_ai\n",
    "print('ibm_watsonx_ai:%s'% ibm_watsonx_ai. __version__ )\n",
    "\n",
    "import langchain\n",
    "print('langchain:%s'% langchain. __version__ )\n",
    "\n",
    "import langchain_community\n",
    "print('langchain_community:%s'% langchain_community. __version__ )\n",
    "\n",
    "import pypdf\n",
    "print('pypdf:%s'% pypdf. __version__ )\n",
    "\n",
    "\n",
    "print('langchain_huggingface:0.1.2')\n",
    "\n",
    "print('langchain_milvus:0.1.7')\n",
    "\n",
    "print('langchain-ibm:0.3.5')\n"
   ]
  }
 ],
 "metadata": {
  "kernelspec": {
   "display_name": "Python 3",
   "language": "python",
   "name": "python3"
  },
  "language_info": {
   "codemirror_mode": {
    "name": "ipython",
    "version": 3
   },
   "file_extension": ".py",
   "mimetype": "text/x-python",
   "name": "python",
   "nbconvert_exporter": "python",
   "pygments_lexer": "ipython3",
   "version": "3.11.9"
  }
 },
 "nbformat": 4,
 "nbformat_minor": 1
}
