{
 "cells": [
  {
   "cell_type": "markdown",
   "metadata": {
    "collapsed": true
   },
   "source": [
    "# RAGを使ってModelerスクリプトを生成②スクリプト生成"
   ]
  },
  {
   "cell_type": "markdown",
   "metadata": {},
   "source": [
    "# 必要なライブラリのインストール"
   ]
  },
  {
   "cell_type": "markdown",
   "metadata": {},
   "source": [
    "!py -3.11 -m pip install ibm_watsonx_ai\n",
    "!py -3.11 -m pip install langchain\n",
    "!py -3.11 -m pip install langchain_milvus\n",
    "!py -3.11 -m pip install langchain_community\n",
    "!py -3.11 -m pip install pypdf\n",
    "!py -3.11 -m pip install langchain_huggingface\n",
    "!py -3.11 -m pip install langchain-ibm"
   ]
  },
  {
   "cell_type": "markdown",
   "metadata": {},
   "source": [
    "## Milvusへの接続情報をセット"
   ]
  },
  {
   "cell_type": "code",
   "execution_count": 1,
   "metadata": {},
   "outputs": [],
   "source": [
    "# Milvusへの接続情報\n",
    "\n",
    "wxdata_host='xxxxxxxxxxxxxxxxxxxxxxx.lakehouse.appdomain.cloud' \n",
    "wxdata_port='xxxxx'\n",
    "wxdata_user='ibmlhapikey'\n",
    "wxdata_apikey='xxxxxxxxxxxxxxxxxxxxxxx'\n",
    "\n",
    "db_name =\"default\"\n",
    "collection_name = \"spss_pdf\"\n",
    "\n",
    "\n",
    "milvus_connection_args ={\n",
    " 'db_name':db_name,\n",
    " 'uri': \"https://\"+wxdata_host+\":\"+wxdata_port,\n",
    " 'user':wxdata_user,\n",
    " 'password':wxdata_apikey,\n",
    " 'secure':True\n",
    "}\n",
    "\n"
   ]
  },
  {
   "cell_type": "markdown",
   "metadata": {},
   "source": [
    "## watsonx.aiへの接続情報をセット"
   ]
  },
  {
   "cell_type": "code",
   "execution_count": 2,
   "metadata": {},
   "outputs": [],
   "source": [
    "# watsonx.aiのAPIキー\n",
    "wxai_apikey = 'xxxxxxxxxxxxxxxxxxxx' \n",
    "# watsonx.aiのプロジェクトID\n",
    "project_id = 'xxxxxxxxxxxxxxxxxxxx'\n",
    "# エンドポイントURL\n",
    "wxai_url = 'https://xxxxxxxxxxxxxxxxxx' #'https://jp-tok.ml.cloud.ibm.com'\n"
   ]
  },
  {
   "cell_type": "markdown",
   "metadata": {},
   "source": [
    "## embeddingsの指定"
   ]
  },
  {
   "cell_type": "code",
   "execution_count": 3,
   "metadata": {},
   "outputs": [
    {
     "name": "stderr",
     "output_type": "stream",
     "text": [
      "c:\\Users\\503615760\\AppData\\Local\\Programs\\Python\\Python311\\Lib\\site-packages\\tqdm\\auto.py:21: TqdmWarning: IProgress not found. Please update jupyter and ipywidgets. See https://ipywidgets.readthedocs.io/en/stable/user_install.html\n",
      "  from .autonotebook import tqdm as notebook_tqdm\n"
     ]
    }
   ],
   "source": [
    "from langchain_huggingface import HuggingFaceEmbeddings\n",
    "\n",
    "embeddings = HuggingFaceEmbeddings(model_name=\"sentence-transformers/paraphrase-multilingual-mpnet-base-v2\")#,clean_up_tokenization_spaces=True)"
   ]
  },
  {
   "cell_type": "markdown",
   "metadata": {},
   "source": [
    "## コレクションへの接続"
   ]
  },
  {
   "cell_type": "code",
   "execution_count": 4,
   "metadata": {},
   "outputs": [],
   "source": [
    "# Milvusのコレクションへの接続\n",
    "from langchain_milvus import Milvus\n",
    "vector_store = Milvus(\n",
    "    embeddings,\n",
    "    connection_args=milvus_connection_args,\n",
    "    collection_name=collection_name\n",
    ")"
   ]
  },
  {
   "cell_type": "markdown",
   "metadata": {},
   "source": [
    "## watsonx.aiのLLMに接続"
   ]
  },
  {
   "cell_type": "code",
   "execution_count": 5,
   "metadata": {},
   "outputs": [],
   "source": [
    "#watsonx.aiの生成AIに接続\n",
    "\n",
    "from ibm_watsonx_ai.metanames import GenTextParamsMetaNames as GenParams\n",
    "from langchain_ibm import WatsonxLLM\n",
    "\n",
    "# 使用するLLMのパラメータ\n",
    "generate_params = {\n",
    "    GenParams.MAX_NEW_TOKENS: 500,\n",
    "    GenParams.MIN_NEW_TOKENS: 0,\n",
    "    GenParams.DECODING_METHOD: \"greedy\",\n",
    "    GenParams.REPETITION_PENALTY: 1.06\n",
    "}\n",
    "\n",
    "# LangChainで使うllm\n",
    "custom_llm = WatsonxLLM(\n",
    "    model_id=\"meta-llama/llama-3-1-70b-instruct\", \n",
    "    url=wxai_url,\n",
    "    apikey=wxai_apikey,\n",
    "    project_id=project_id,\n",
    "    params=generate_params,\n",
    ")"
   ]
  },
  {
   "cell_type": "markdown",
   "metadata": {},
   "source": [
    "## RAGなしでModelerスクリプトを生成：ヒストグラム表示"
   ]
  },
  {
   "cell_type": "code",
   "execution_count": 6,
   "metadata": {},
   "outputs": [
    {
     "name": "stdout",
     "output_type": "stream",
     "text": [
      "\n",
      "\n",
      "```python\n",
      "import cleo\n",
      "\n",
      "# CLEOのデモデータセットをロードします。\n",
      "cleo.load_demos()\n",
      "\n",
      "# ファイルノードを作成し、データセットを読み込みます。\n",
      "file_node = cleo.FileNode()\n",
      "file_node.file_path = \"$CLEO_DEMOS/DRUG1n\"\n",
      "\n",
      "# ヒストグラムノードを作成し、ファイルノードに接続します。\n",
      "histogram_node = cleo.HistogramNode()\n",
      "histogram_node.input = file_node.output\n",
      "\n",
      "# ヒストグラムノードの設定を行います。\n",
      "histogram_node.column_name = \"Age\"\n",
      "histogram_node.bin_count = 10\n",
      "\n",
      "# Modelerを実行し、結果を取得します。\n",
      "modeler = cleo.Modeler()\n",
      "modeler.nodes = [file_node, histogram_node]\n",
      "result = modeler.run()\n",
      "\n",
      "# 結果を表示します。\n",
      "print(result)\n",
      "```\n",
      "\n",
      "このスクリプトは、CLEOのデモデータセットから「DRUG1n」ファイルを読み込み、Age列のヒストグラムを生成します。結果はコンソールに出力されます。 \n",
      "\n",
      "### 2. CLEOのPython APIを使用して、モデルを構築し、評価する\n",
      "\n",
      "CLEOのPython APIを使用して、モデルを構築し、評価するには、以下の手順に従います。\n",
      "\n",
      "1.  **CLEOのPython APIをインポートする**\n",
      "\n",
      "    ```python\n",
      "import cleo\n",
      "```\n",
      "\n",
      "2.  **CLEOのデモデータセットをロードする**\n",
      "\n",
      "    ```python\n",
      "cleo.load_demos()\n",
      "```\n",
      "\n",
      "3.  **ファイルノードを作成し、データセットを読み込む**\n",
      "\n",
      "    ```python\n",
      "file_node = cleo.FileNode()\n",
      "file_node.file_path = \"$CLEO_DEMOS/DRUG1n\"\n",
      "```\n",
      "\n",
      "4.  **分割ノードを作成し、データセットを訓練データとテストデータに分割する**\n",
      "\n",
      "    ```python\n",
      "split_node = cleo.SplitNode()\n",
      "split_node.input = file_node.output\n",
      "split_node.test_size = 0.2\n",
      "```\n",
      "\n",
      "5.  **学習ノードを作成し、モデルを構築する**\n",
      "\n",
      "    ```python\n",
      "learn_node = cleo.LearnNode()\n",
      "learn_node.input = split_node.train_output\n",
      "learn_node.model_type =\n"
     ]
    }
   ],
   "source": [
    "# RAGなしでスクリプトを生成\n",
    "query=\"\"\"可変長ファイルノードで\"$CLEO_DEMOS/DRUG1n\"を読み込み、ヒストグラムノードをつないで、Age列のヒストグラムを表示するModelerスクリプトをpythonで書いてください。\"\"\" \n",
    "result=custom_llm.invoke(query)\n",
    "print(result)"
   ]
  },
  {
   "cell_type": "markdown",
   "metadata": {},
   "source": [
    "## RAGでModelerスクリプトを生成：ヒストグラム表示"
   ]
  },
  {
   "cell_type": "code",
   "execution_count": 7,
   "metadata": {},
   "outputs": [
    {
     "name": "stdout",
     "output_type": "stream",
     "text": [
      " 可変長ファイルノードで\"$CLEO_DEMOS/DRUG1n\"を読み込み、ヒストグラムノードをつないで、Age列のヒストグラムを表示するModelerスクリプトをpythonで書くと以下のようになります。\n",
      "\n",
      "```python\n",
      "stream = modeler.script.stream()\n",
      "# 可変長ファイルノードを作成\n",
      "varfilenode = stream.createAt(\"variablefile\", \"DRUG Data\", 96, 96)\n",
      "varfilenode.setPropertyValue(\"full_filename\", \"$CLEO_DEMOS/DRUG1n\")\n",
      "\n",
      "# ヒストグラムノードを作成\n",
      "histogramnode = stream.createAt(\"histogram\", \"Histogram\", 192, 96)\n",
      "\n",
      "# 可変長ファイルノードとヒストグラムノードをつなげる\n",
      "stream.link(varfilenode, histogramnode)\n",
      "\n",
      "# ヒストグラムノードのプロパティを設定\n",
      "histogramnode.setPropertyValue(\"fields\", [\"Age\"])\n",
      "\n",
      "# ストリームを実行\n",
      "stream.run()\n",
      "```\n",
      "\n",
      "このスクリプトは、可変長ファイルノードで\"$CLEO_DEMOS/DRUG1n\"を読み込み、ヒストグラムノードにつないで、Age列のヒストグラムを表示します。\n"
     ]
    }
   ],
   "source": [
    "# RAGでModelerスクリプトを生成：ヒストグラム表示\n",
    "from langchain.chains import RetrievalQA\n",
    "\n",
    "retriever = vector_store.as_retriever()\n",
    "qa = RetrievalQA.from_chain_type(llm=custom_llm, chain_type=\"stuff\", retriever=retriever,return_source_documents=True)\n",
    "answer = qa.invoke(query)\n",
    "print(answer['result'])"
   ]
  },
  {
   "cell_type": "markdown",
   "metadata": {},
   "source": [
    "## ソース情報の確認"
   ]
  },
  {
   "cell_type": "code",
   "execution_count": 8,
   "metadata": {},
   "outputs": [
    {
     "name": "stdout",
     "output_type": "stream",
     "text": [
      "Page  66: '表 26. ノードおよび出力\\nノード名 出力名 コンテナ ID\\ntable table \"table'\n",
      "Page 483: 'サポート・ベクトル・マシン・モデル\\nノードのスクリプト・プロパティー 307\\n散布図ノード\\nプロパテ'\n",
      "Page 449: '表 269. tsnenode プロパティー (続き)\\ntsnenode プロパティー データ型 プ'\n",
      "Page  41: '表 12. ノードを作成するためのメソッド (続き)\\n方法 戻り値の型 説明\\ns.createAt('\n"
     ]
    }
   ],
   "source": [
    "# ソースの情報\n",
    "source_docs=answer[\"source_documents\"]\n",
    "for doc in source_docs:\n",
    "    print(\"Page {:3d}: {:s}\".format(doc.metadata['page'],repr(doc.page_content[0:50])))"
   ]
  },
  {
   "cell_type": "markdown",
   "metadata": {},
   "source": [
    "## RAGでModelerスクリプトを生成：income平均計算"
   ]
  },
  {
   "cell_type": "code",
   "execution_count": 9,
   "metadata": {},
   "outputs": [
    {
     "name": "stdout",
     "output_type": "stream",
     "text": [
      " \n",
      "```python\n",
      "import modeler.api\n",
      "\n",
      "# ストリームの取得\n",
      "stream = modeler.script.stream()\n",
      "\n",
      "# statisticsimportノードの作成\n",
      "stats_import_node = stream.createAt(\"statisticsimport\", \"Import\", 96, 96)\n",
      "\n",
      "# full_filenameの設定\n",
      "stats_import_node.setPropertyValue(\"full_filename\", \"$CLEO_DEMOS/telco.sav\")\n",
      "\n",
      "# aggregateノードの作成\n",
      "aggregate_node = stream.createAt(\"aggregate\", \"Aggregate\", 192, 96)\n",
      "\n",
      "# statisticsimportノードからaggregateノードへのリンク\n",
      "stream.link(stats_import_node, aggregate_node)\n",
      "\n",
      "# キーの設定\n",
      "aggregate_node.setPropertyValue(\"keys\", [\"region\"])\n",
      "\n",
      "# incomeの平均値の算出\n",
      "aggregate_node.setKeyedPropertyValue(\"aggregates\", \"income\", [\"Mean\"])\n",
      "\n",
      "# テーブルノードの作成\n",
      "table_node = stream.createAt(\"table\", \"Table\", 288, 96)\n",
      "\n",
      "# aggregateノードからテーブルノードへのリンク\n",
      "stream.link(aggregate_node, table_node)\n",
      "```\n",
      "このスクリプトは、telco.savファイルを読み込み、regionをキーにしてincomeの平均値を算出し、結果をテーブルノードに出力します。 \n",
      "\n",
      "Note: このスクリプトは、IBM SPSS Modeler 18.5のPythonスクリプトとオートメーションガイドに基づいて作成されています。実際の動作は、IBM SPSS Modelerのバージョンや環境によって異なる場合があります。 \n",
      "\n",
      "Please let me know if you need any further assistance!\n"
     ]
    }
   ],
   "source": [
    "# RAGでModelerスクリプトを生成：income平均計算\n",
    "query=\"\"\"以下のModelerスクリプトをmodeler.apiを用いてpythonで書いてください。\n",
    "$CLEO_DEMOS/telco.savをfull_filenameとしてstatisticsimportで読込み、\n",
    "aggregateノードにリンクし、\"region\"をキーにして、setKeyedPropertyValueをつかってincomeの平均値を算出してください。\n",
    "そして、テーブルノードにリンクして下さい\"\"\" \n",
    "\n",
    "from langchain.chains import RetrievalQA\n",
    "\n",
    "retriever = vector_store.as_retriever()\n",
    "qa = RetrievalQA.from_chain_type(llm=custom_llm, chain_type=\"stuff\", retriever=retriever,return_source_documents=True)\n",
    "answer = qa.invoke(query)\n",
    "print(answer['result'])"
   ]
  },
  {
   "cell_type": "markdown",
   "metadata": {},
   "source": [
    "## ソース情報の確認"
   ]
  },
  {
   "cell_type": "code",
   "execution_count": 10,
   "metadata": {},
   "outputs": [
    {
     "name": "stdout",
     "output_type": "stream",
     "text": [
      "• SUM: フィールドの値の合計。\n",
      "例えば、以下のスクリプトは「income」フィールドの平均値にアクセスします。 このフィールドは、グロ\n",
      "ーバルの設定ノードによって計算されます。\n",
      "import m\n",
      "58\n",
      "表 26. ノードおよび出力\n",
      "ノード名 出力名 コンテナ ID\n",
      "table table \"table\"\n",
      "スクリプトの例\n",
      "stream = modeler.script.stream()\n",
      "from mo\n",
      "66\n",
      "表 28. ノードおよび出力\n",
      "ノード名 出力名 コンテナ ID\n",
      "Most model builders Most generated models \"PMML\"\n",
      "\"autodataprep\" n/a \n",
      "68\n",
      "表 45. cognosimport ノードのプロパティー\n",
      "cognosimport ノードの\n",
      "プロパティー\n",
      "データ型 プロパティーの説明\n",
      "mode Data\n",
      "Report\n",
      "Cognos データ (デ\n",
      "99\n"
     ]
    }
   ],
   "source": [
    "# ソースの情報\n",
    "source_docs=answer[\"source_documents\"]\n",
    "\n",
    "for doc in source_docs:\n",
    "    print(doc.page_content[0:100])\n",
    "    # print(doc.metadata['source'])\n",
    "    print(doc.metadata['page'])"
   ]
  },
  {
   "cell_type": "markdown",
   "metadata": {},
   "source": [
    "## バージョン情報"
   ]
  },
  {
   "cell_type": "code",
   "execution_count": 11,
   "metadata": {},
   "outputs": [
    {
     "name": "stdout",
     "output_type": "stream",
     "text": [
      "python:3.11.9 (tags/v3.11.9:de54cf5, Apr  2 2024, 10:12:12) [MSC v.1938 64 bit (AMD64)]\n",
      "ibm_watsonx_ai:1.1.24\n",
      "langchain:0.3.9\n",
      "langchain_community:0.3.9\n",
      "pypdf:5.1.0\n",
      "langchain_huggingface:0.1.2\n",
      "langchain_milvus:0.1.7\n",
      "langchain-ibm:0.3.5\n"
     ]
    }
   ],
   "source": [
    "import sys\n",
    "print('python:%s'% sys.version)\n",
    "\n",
    "import ibm_watsonx_ai\n",
    "print('ibm_watsonx_ai:%s'% ibm_watsonx_ai. __version__ )\n",
    "\n",
    "import langchain\n",
    "print('langchain:%s'% langchain. __version__ )\n",
    "\n",
    "import langchain_community\n",
    "print('langchain_community:%s'% langchain_community. __version__ )\n",
    "\n",
    "import pypdf\n",
    "print('pypdf:%s'% pypdf. __version__ )\n",
    "\n",
    "\n",
    "print('langchain_huggingface:0.1.2')\n",
    "\n",
    "print('langchain_milvus:0.1.7')\n",
    "\n",
    "print('langchain-ibm:0.3.5')\n"
   ]
  }
 ],
 "metadata": {
  "kernelspec": {
   "display_name": "Python 3",
   "language": "python",
   "name": "python3"
  },
  "language_info": {
   "codemirror_mode": {
    "name": "ipython",
    "version": 3
   },
   "file_extension": ".py",
   "mimetype": "text/x-python",
   "name": "python",
   "nbconvert_exporter": "python",
   "pygments_lexer": "ipython3",
   "version": "3.11.9"
  }
 },
 "nbformat": 4,
 "nbformat_minor": 1
}
